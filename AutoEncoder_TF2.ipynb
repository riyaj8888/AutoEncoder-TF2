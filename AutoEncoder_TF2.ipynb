{
  "nbformat": 4,
  "nbformat_minor": 0,
  "metadata": {
    "colab": {
      "name": "AutoEncoder_TF2.ipynb",
      "provenance": [],
      "collapsed_sections": []
    },
    "kernelspec": {
      "name": "python3",
      "display_name": "Python 3"
    },
    "language_info": {
      "name": "python"
    },
    "accelerator": "GPU"
  },
  "cells": [
    {
      "cell_type": "code",
      "metadata": {
        "id": "zu22ganca2eb"
      },
      "source": [
        "import tensorflow as tf\n",
        "from tensorflow.keras.layers import *\n",
        "from tensorflow import keras\n",
        "import numpy as np"
      ],
      "execution_count": null,
      "outputs": []
    },
    {
      "cell_type": "code",
      "metadata": {
        "id": "IX4yHUOZbU1n"
      },
      "source": [
        "class AE(tf.keras.layers.Layer):\n",
        "\n",
        "  def __init__(self,num_of_encoder_block=None,num_of_decoder_block=None,num_of_base_filters=None,c_factor = 0.5):\n",
        "\n",
        "    super(AE,self).__init__()\n",
        "\n",
        "    self.num_of_encoder_block = num_of_encoder_block\n",
        "    self.num_of_decoder_block = num_of_decoder_block\n",
        "\n",
        "    self.enc_filters = num_of_base_filters*np.arange(self.num_of_encoder_block )\n",
        "    self.dec_filters = self.enc_filters[::-1]*c_factor\n",
        "\n",
        "\n",
        "    self.encode_convs  = [Conv2D(filters=self.enc_filters[h]+num_of_base_filters,kernel_size=(3,3),strides=(1,1),padding='same',name = 'en_conv_'+ str(h)) for h in range(self.num_of_encoder_block)]\n",
        "    self.encode_bn  = [BatchNormalization(name = 'en_bn_'+ str(h)) for h in range(self.num_of_encoder_block)]\n",
        "    self.encode_activation  = [ReLU(name = 'en_relu_'+ str(h)) for h in range(self.num_of_encoder_block)]\n",
        "\n",
        "    self.decode_convs  = [Conv2D(filters=self.dec_filters[h]+num_of_base_filters//2,kernel_size=(3,3),strides=(1,1),padding='same',name='dec_conv_'+ str(h)) for h in range(self.num_of_decoder_block)]\n",
        "    self.decode_bn  = [BatchNormalization(name='dec_bn_'+ str(h)) for h in range(self.num_of_decoder_block)]\n",
        "    self.decode_activation  = [ReLU(name='dec_relu_'+ str(h)) for h in range(self.num_of_decoder_block)]\n",
        "\n",
        "    self.final_conv = Conv2D(1,1,padding='same')\n",
        "    self.final_act = tf.keras.activations.sigmoid\n",
        "\n",
        "  def encode_info(self,x):\n",
        "\n",
        "    for l in range(self.num_of_encoder_block):\n",
        "\n",
        "      x = self.encode_convs[l](x)\n",
        "      x = self.encode_bn[l](x)\n",
        "      x = self.encode_activation[l](x)\n",
        "\n",
        "      if l % 2 == 0:\n",
        "        x = MaxPool2D()(x)\n",
        "\n",
        "    return x\n",
        "\n",
        "  def decode_info(self,x):\n",
        "\n",
        "    for l in range(self.num_of_decoder_block):\n",
        "\n",
        "      x = self.decode_convs[l](x)\n",
        "      x = self.decode_bn[l](x)\n",
        "      x = self.decode_activation[l](x)\n",
        "\n",
        "      if l % 2 == 0:\n",
        "\n",
        "        x = Conv2DTranspose(filters = self.dec_filters[l]+num_of_base_filters//2,kernel_size=(3,3), strides=2,padding='same')(x)\n",
        "        x = ReLU()(x)\n",
        "\n",
        "      if l == self.num_of_decoder_block-1:\n",
        "        x = self.final_conv(x)\n",
        "        x = self.final_act(x)\n",
        "\n",
        "    return x\n",
        "\n",
        "  def call(self,x):\n",
        "\n",
        "    x = self.encode_info(x)\n",
        "    x = self.decode_info(x)\n",
        "\n",
        "\n",
        "    return x\n",
        "\n",
        "\n"
      ],
      "execution_count": null,
      "outputs": []
    },
    {
      "cell_type": "code",
      "metadata": {
        "colab": {
          "base_uri": "https://localhost:8080/"
        },
        "id": "pPI0MmbBfOWv",
        "outputId": "df020270-a852-4aa5-acb4-c3ead047e0d3"
      },
      "source": [
        "x = Input(shape=(28,28,1))\n",
        "\n",
        "num_of_encoder_block = 3\n",
        "num_of_base_filters = 64\n",
        "num_of_decoder_block = 3\n",
        "\n",
        "AE_Class = AE(num_of_encoder_block=num_of_encoder_block,num_of_decoder_block=num_of_decoder_block,num_of_base_filters=num_of_base_filters)\n",
        "\n",
        "e1 = AE_Class.encode_info(x)\n",
        "d1 = AE_Class.decode_info(e1)\n",
        "\n",
        "\n",
        "encoder_model = tf.keras.models.Model(x,e1)\n",
        "encoder_model.summary()\n",
        "\n",
        "\n",
        "\n",
        "\n",
        "AE_model = tf.keras.models.Model(inputs = x,outputs=d1)\n",
        "AE_model.summary()"
      ],
      "execution_count": null,
      "outputs": [
        {
          "output_type": "stream",
          "text": [
            "Model: \"model_28\"\n",
            "_________________________________________________________________\n",
            "Layer (type)                 Output Shape              Param #   \n",
            "=================================================================\n",
            "input_17 (InputLayer)        [(None, 28, 28, 1)]       0         \n",
            "_________________________________________________________________\n",
            "en_conv_0 (Conv2D)           (None, 28, 28, 64)        640       \n",
            "_________________________________________________________________\n",
            "en_bn_0 (BatchNormalization) (None, 28, 28, 64)        256       \n",
            "_________________________________________________________________\n",
            "en_relu_0 (ReLU)             (None, 28, 28, 64)        0         \n",
            "_________________________________________________________________\n",
            "max_pooling2d_40 (MaxPooling (None, 14, 14, 64)        0         \n",
            "_________________________________________________________________\n",
            "en_conv_1 (Conv2D)           (None, 14, 14, 128)       73856     \n",
            "_________________________________________________________________\n",
            "en_bn_1 (BatchNormalization) (None, 14, 14, 128)       512       \n",
            "_________________________________________________________________\n",
            "en_relu_1 (ReLU)             (None, 14, 14, 128)       0         \n",
            "_________________________________________________________________\n",
            "en_conv_2 (Conv2D)           (None, 14, 14, 192)       221376    \n",
            "_________________________________________________________________\n",
            "en_bn_2 (BatchNormalization) (None, 14, 14, 192)       768       \n",
            "_________________________________________________________________\n",
            "en_relu_2 (ReLU)             (None, 14, 14, 192)       0         \n",
            "_________________________________________________________________\n",
            "max_pooling2d_41 (MaxPooling (None, 7, 7, 192)         0         \n",
            "=================================================================\n",
            "Total params: 297,408\n",
            "Trainable params: 296,640\n",
            "Non-trainable params: 768\n",
            "_________________________________________________________________\n",
            "Model: \"model_29\"\n",
            "_________________________________________________________________\n",
            "Layer (type)                 Output Shape              Param #   \n",
            "=================================================================\n",
            "input_17 (InputLayer)        [(None, 28, 28, 1)]       0         \n",
            "_________________________________________________________________\n",
            "en_conv_0 (Conv2D)           (None, 28, 28, 64)        640       \n",
            "_________________________________________________________________\n",
            "en_bn_0 (BatchNormalization) (None, 28, 28, 64)        256       \n",
            "_________________________________________________________________\n",
            "en_relu_0 (ReLU)             (None, 28, 28, 64)        0         \n",
            "_________________________________________________________________\n",
            "max_pooling2d_40 (MaxPooling (None, 14, 14, 64)        0         \n",
            "_________________________________________________________________\n",
            "en_conv_1 (Conv2D)           (None, 14, 14, 128)       73856     \n",
            "_________________________________________________________________\n",
            "en_bn_1 (BatchNormalization) (None, 14, 14, 128)       512       \n",
            "_________________________________________________________________\n",
            "en_relu_1 (ReLU)             (None, 14, 14, 128)       0         \n",
            "_________________________________________________________________\n",
            "en_conv_2 (Conv2D)           (None, 14, 14, 192)       221376    \n",
            "_________________________________________________________________\n",
            "en_bn_2 (BatchNormalization) (None, 14, 14, 192)       768       \n",
            "_________________________________________________________________\n",
            "en_relu_2 (ReLU)             (None, 14, 14, 192)       0         \n",
            "_________________________________________________________________\n",
            "max_pooling2d_41 (MaxPooling (None, 7, 7, 192)         0         \n",
            "_________________________________________________________________\n",
            "dec_conv_0 (Conv2D)          (None, 7, 7, 96)          165984    \n",
            "_________________________________________________________________\n",
            "dec_bn_0 (BatchNormalization (None, 7, 7, 96)          384       \n",
            "_________________________________________________________________\n",
            "dec_relu_0 (ReLU)            (None, 7, 7, 96)          0         \n",
            "_________________________________________________________________\n",
            "conv2d_transpose_35 (Conv2DT (None, 14, 14, 96)        83040     \n",
            "_________________________________________________________________\n",
            "re_lu_35 (ReLU)              (None, 14, 14, 96)        0         \n",
            "_________________________________________________________________\n",
            "dec_conv_1 (Conv2D)          (None, 14, 14, 64)        55360     \n",
            "_________________________________________________________________\n",
            "dec_bn_1 (BatchNormalization (None, 14, 14, 64)        256       \n",
            "_________________________________________________________________\n",
            "dec_relu_1 (ReLU)            (None, 14, 14, 64)        0         \n",
            "_________________________________________________________________\n",
            "dec_conv_2 (Conv2D)          (None, 14, 14, 32)        18464     \n",
            "_________________________________________________________________\n",
            "dec_bn_2 (BatchNormalization (None, 14, 14, 32)        128       \n",
            "_________________________________________________________________\n",
            "dec_relu_2 (ReLU)            (None, 14, 14, 32)        0         \n",
            "_________________________________________________________________\n",
            "conv2d_transpose_36 (Conv2DT (None, 28, 28, 32)        9248      \n",
            "_________________________________________________________________\n",
            "re_lu_36 (ReLU)              (None, 28, 28, 32)        0         \n",
            "_________________________________________________________________\n",
            "conv2d_15 (Conv2D)           (None, 28, 28, 1)         33        \n",
            "_________________________________________________________________\n",
            "tf.math.sigmoid_14 (TFOpLamb (None, 28, 28, 1)         0         \n",
            "=================================================================\n",
            "Total params: 630,305\n",
            "Trainable params: 629,153\n",
            "Non-trainable params: 1,152\n",
            "_________________________________________________________________\n"
          ],
          "name": "stdout"
        }
      ]
    },
    {
      "cell_type": "code",
      "metadata": {
        "id": "IWZtMoEwjk3k"
      },
      "source": [
        ""
      ],
      "execution_count": null,
      "outputs": []
    },
    {
      "cell_type": "code",
      "metadata": {
        "id": "oOsxC9L30DxY"
      },
      "source": [
        ""
      ],
      "execution_count": null,
      "outputs": []
    },
    {
      "cell_type": "code",
      "metadata": {
        "colab": {
          "base_uri": "https://localhost:8080/"
        },
        "id": "3H9DH40d19KS",
        "outputId": "d48ba3b1-94c4-4420-c29f-302c3ef5d2cf"
      },
      "source": [
        ""
      ],
      "execution_count": null,
      "outputs": [
        {
          "output_type": "stream",
          "text": [
            "encoder weights are set !\n"
          ],
          "name": "stdout"
        }
      ]
    },
    {
      "cell_type": "code",
      "metadata": {
        "id": "hKZvCp2gytaV"
      },
      "source": [
        "(x_train, y_train), (x_test, y_test) = keras.datasets.mnist.load_data()\n",
        "x_train = x_train.reshape(-1,28,28,1)\n",
        "x_test = x_test.reshape(-1,28,28,1)\n",
        "# assert x_train.shape == (60000, 28, 28)\n",
        "# assert x_test.shape == (10000, 28, 28)\n",
        "# assert y_train.shape == (60000,)\n",
        "# assert y_test.shape == (10000,)"
      ],
      "execution_count": null,
      "outputs": []
    },
    {
      "cell_type": "code",
      "metadata": {
        "id": "dopm4eCM7LZ8"
      },
      "source": [
        "AE_model.compile(\n",
        "    optimizer = keras.optimizers.SGD(learning_rate=1e-3),  # Optimizer\n",
        "    # Loss function to minimize\n",
        "    loss = tf.keras.losses.MeanSquaredError(),\n",
        "\n",
        ")"
      ],
      "execution_count": null,
      "outputs": []
    },
    {
      "cell_type": "code",
      "metadata": {
        "colab": {
          "base_uri": "https://localhost:8080/",
          "height": 1000
        },
        "id": "yALYcoAf7koj",
        "outputId": "5aa9d4ac-5107-411c-9200-1cbe63ed76e1"
      },
      "source": [
        "history = AE_model.fit(\n",
        "    x_train/255.,\n",
        "    x_train/255,\n",
        "    batch_size=64,\n",
        "    epochs=200,\n",
        "    # We pass some validation for\n",
        "    # monitoring validation loss and metrics\n",
        "    # at the end of each epoch\n",
        "    validation_split=0.3\n",
        ")"
      ],
      "execution_count": null,
      "outputs": [
        {
          "output_type": "stream",
          "text": [
            "Epoch 1/200\n",
            "657/657 [==============================] - 11s 16ms/step - loss: 0.0135 - val_loss: 0.0130\n",
            "Epoch 2/200\n",
            "657/657 [==============================] - 11s 16ms/step - loss: 0.0133 - val_loss: 0.0128\n",
            "Epoch 3/200\n",
            "657/657 [==============================] - 11s 16ms/step - loss: 0.0131 - val_loss: 0.0126\n",
            "Epoch 4/200\n",
            "657/657 [==============================] - 11s 16ms/step - loss: 0.0129 - val_loss: 0.0125\n",
            "Epoch 5/200\n",
            "657/657 [==============================] - 10s 16ms/step - loss: 0.0128 - val_loss: 0.0123\n",
            "Epoch 6/200\n",
            "657/657 [==============================] - 10s 16ms/step - loss: 0.0126 - val_loss: 0.0122\n",
            "Epoch 7/200\n",
            "657/657 [==============================] - 10s 16ms/step - loss: 0.0125 - val_loss: 0.0120\n",
            "Epoch 8/200\n",
            "657/657 [==============================] - 10s 16ms/step - loss: 0.0123 - val_loss: 0.0119\n",
            "Epoch 9/200\n",
            "657/657 [==============================] - 10s 16ms/step - loss: 0.0122 - val_loss: 0.0117\n",
            "Epoch 10/200\n",
            "657/657 [==============================] - 10s 16ms/step - loss: 0.0121 - val_loss: 0.0116\n",
            "Epoch 11/200\n",
            "657/657 [==============================] - 10s 16ms/step - loss: 0.0119 - val_loss: 0.0115\n",
            "Epoch 12/200\n",
            "657/657 [==============================] - 10s 16ms/step - loss: 0.0118 - val_loss: 0.0113\n",
            "Epoch 13/200\n",
            "657/657 [==============================] - 10s 16ms/step - loss: 0.0117 - val_loss: 0.0112\n",
            "Epoch 14/200\n",
            "657/657 [==============================] - 10s 16ms/step - loss: 0.0115 - val_loss: 0.0111\n",
            "Epoch 15/200\n",
            "657/657 [==============================] - 10s 16ms/step - loss: 0.0114 - val_loss: 0.0110\n",
            "Epoch 16/200\n",
            "657/657 [==============================] - 10s 16ms/step - loss: 0.0113 - val_loss: 0.0109\n",
            "Epoch 17/200\n",
            "657/657 [==============================] - 10s 16ms/step - loss: 0.0112 - val_loss: 0.0108\n",
            "Epoch 18/200\n",
            "657/657 [==============================] - 10s 16ms/step - loss: 0.0111 - val_loss: 0.0107\n",
            "Epoch 19/200\n",
            "657/657 [==============================] - 10s 16ms/step - loss: 0.0110 - val_loss: 0.0106\n",
            "Epoch 20/200\n",
            "657/657 [==============================] - 10s 16ms/step - loss: 0.0109 - val_loss: 0.0105\n",
            "Epoch 21/200\n",
            "657/657 [==============================] - 10s 16ms/step - loss: 0.0108 - val_loss: 0.0104\n",
            "Epoch 22/200\n",
            "657/657 [==============================] - 10s 16ms/step - loss: 0.0107 - val_loss: 0.0103\n",
            "Epoch 23/200\n",
            "657/657 [==============================] - 10s 16ms/step - loss: 0.0106 - val_loss: 0.0102\n",
            "Epoch 24/200\n",
            "657/657 [==============================] - 10s 16ms/step - loss: 0.0105 - val_loss: 0.0101\n",
            "Epoch 25/200\n",
            "657/657 [==============================] - 10s 16ms/step - loss: 0.0104 - val_loss: 0.0100\n",
            "Epoch 26/200\n",
            "657/657 [==============================] - 10s 16ms/step - loss: 0.0103 - val_loss: 0.0099\n",
            "Epoch 27/200\n",
            "657/657 [==============================] - 10s 16ms/step - loss: 0.0103 - val_loss: 0.0098\n",
            "Epoch 28/200\n",
            "657/657 [==============================] - 10s 16ms/step - loss: 0.0102 - val_loss: 0.0098\n",
            "Epoch 29/200\n",
            "657/657 [==============================] - 10s 16ms/step - loss: 0.0101 - val_loss: 0.0097\n",
            "Epoch 30/200\n",
            "657/657 [==============================] - 10s 16ms/step - loss: 0.0100 - val_loss: 0.0096\n",
            "Epoch 31/200\n",
            "657/657 [==============================] - 10s 16ms/step - loss: 0.0099 - val_loss: 0.0095\n",
            "Epoch 32/200\n",
            "657/657 [==============================] - 10s 16ms/step - loss: 0.0099 - val_loss: 0.0095\n",
            "Epoch 33/200\n",
            "657/657 [==============================] - 10s 16ms/step - loss: 0.0098 - val_loss: 0.0094\n",
            "Epoch 34/200\n",
            "657/657 [==============================] - 10s 16ms/step - loss: 0.0097 - val_loss: 0.0093\n",
            "Epoch 35/200\n",
            "657/657 [==============================] - 10s 16ms/step - loss: 0.0097 - val_loss: 0.0093\n",
            "Epoch 36/200\n",
            "657/657 [==============================] - 10s 16ms/step - loss: 0.0096 - val_loss: 0.0092\n",
            "Epoch 37/200\n",
            "657/657 [==============================] - 10s 16ms/step - loss: 0.0095 - val_loss: 0.0091\n",
            "Epoch 38/200\n",
            "657/657 [==============================] - 10s 16ms/step - loss: 0.0095 - val_loss: 0.0091\n",
            "Epoch 39/200\n",
            "657/657 [==============================] - 10s 16ms/step - loss: 0.0094 - val_loss: 0.0090\n",
            "Epoch 40/200\n",
            "657/657 [==============================] - 10s 16ms/step - loss: 0.0093 - val_loss: 0.0089\n",
            "Epoch 41/200\n",
            "657/657 [==============================] - 10s 16ms/step - loss: 0.0093 - val_loss: 0.0089\n",
            "Epoch 42/200\n",
            "657/657 [==============================] - 10s 16ms/step - loss: 0.0092 - val_loss: 0.0088\n",
            "Epoch 43/200\n",
            "657/657 [==============================] - 10s 16ms/step - loss: 0.0092 - val_loss: 0.0088\n",
            "Epoch 44/200\n",
            "657/657 [==============================] - 10s 16ms/step - loss: 0.0091 - val_loss: 0.0087\n",
            "Epoch 45/200\n",
            "657/657 [==============================] - 10s 16ms/step - loss: 0.0090 - val_loss: 0.0087\n",
            "Epoch 46/200\n",
            "657/657 [==============================] - 10s 16ms/step - loss: 0.0090 - val_loss: 0.0086\n",
            "Epoch 47/200\n",
            "657/657 [==============================] - 10s 16ms/step - loss: 0.0089 - val_loss: 0.0086\n",
            "Epoch 48/200\n",
            "657/657 [==============================] - 10s 16ms/step - loss: 0.0089 - val_loss: 0.0085\n",
            "Epoch 49/200\n",
            "657/657 [==============================] - 11s 16ms/step - loss: 0.0088 - val_loss: 0.0085\n",
            "Epoch 50/200\n",
            "657/657 [==============================] - 11s 16ms/step - loss: 0.0088 - val_loss: 0.0084\n",
            "Epoch 51/200\n",
            "657/657 [==============================] - 10s 16ms/step - loss: 0.0087 - val_loss: 0.0084\n",
            "Epoch 52/200\n",
            "657/657 [==============================] - 10s 16ms/step - loss: 0.0087 - val_loss: 0.0083\n",
            "Epoch 53/200\n",
            "657/657 [==============================] - 10s 16ms/step - loss: 0.0086 - val_loss: 0.0083\n",
            "Epoch 54/200\n",
            "657/657 [==============================] - 10s 16ms/step - loss: 0.0086 - val_loss: 0.0082\n",
            "Epoch 55/200\n",
            "657/657 [==============================] - 10s 16ms/step - loss: 0.0085 - val_loss: 0.0082\n",
            "Epoch 56/200\n",
            "657/657 [==============================] - 10s 16ms/step - loss: 0.0085 - val_loss: 0.0081\n",
            "Epoch 57/200\n",
            "657/657 [==============================] - 10s 16ms/step - loss: 0.0085 - val_loss: 0.0081\n",
            "Epoch 58/200\n",
            "657/657 [==============================] - 10s 16ms/step - loss: 0.0084 - val_loss: 0.0081\n",
            "Epoch 59/200\n",
            "657/657 [==============================] - 10s 16ms/step - loss: 0.0084 - val_loss: 0.0080\n",
            "Epoch 60/200\n",
            "657/657 [==============================] - 10s 16ms/step - loss: 0.0083 - val_loss: 0.0080\n",
            "Epoch 61/200\n",
            "657/657 [==============================] - 10s 16ms/step - loss: 0.0083 - val_loss: 0.0079\n",
            "Epoch 62/200\n",
            "657/657 [==============================] - 10s 16ms/step - loss: 0.0082 - val_loss: 0.0079\n",
            "Epoch 63/200\n",
            "657/657 [==============================] - 10s 16ms/step - loss: 0.0082 - val_loss: 0.0078\n",
            "Epoch 64/200\n",
            "657/657 [==============================] - 10s 16ms/step - loss: 0.0082 - val_loss: 0.0078\n",
            "Epoch 65/200\n",
            "657/657 [==============================] - 10s 16ms/step - loss: 0.0081 - val_loss: 0.0078\n",
            "Epoch 66/200\n",
            "657/657 [==============================] - 10s 16ms/step - loss: 0.0081 - val_loss: 0.0077\n",
            "Epoch 67/200\n",
            "657/657 [==============================] - 10s 16ms/step - loss: 0.0080 - val_loss: 0.0077\n",
            "Epoch 68/200\n",
            "657/657 [==============================] - 10s 16ms/step - loss: 0.0080 - val_loss: 0.0076\n",
            "Epoch 69/200\n",
            "657/657 [==============================] - 10s 16ms/step - loss: 0.0080 - val_loss: 0.0076\n",
            "Epoch 70/200\n",
            "657/657 [==============================] - 10s 16ms/step - loss: 0.0079 - val_loss: 0.0076\n",
            "Epoch 71/200\n",
            "657/657 [==============================] - 10s 16ms/step - loss: 0.0079 - val_loss: 0.0076\n",
            "Epoch 72/200\n",
            "657/657 [==============================] - 10s 16ms/step - loss: 0.0079 - val_loss: 0.0075\n",
            "Epoch 73/200\n",
            "657/657 [==============================] - 10s 16ms/step - loss: 0.0078 - val_loss: 0.0075\n",
            "Epoch 74/200\n",
            "657/657 [==============================] - 10s 16ms/step - loss: 0.0078 - val_loss: 0.0074\n",
            "Epoch 75/200\n",
            "657/657 [==============================] - 11s 16ms/step - loss: 0.0078 - val_loss: 0.0074\n",
            "Epoch 76/200\n",
            "657/657 [==============================] - 10s 16ms/step - loss: 0.0077 - val_loss: 0.0074\n",
            "Epoch 77/200\n",
            "657/657 [==============================] - 10s 16ms/step - loss: 0.0077 - val_loss: 0.0074\n",
            "Epoch 78/200\n",
            "657/657 [==============================] - 10s 16ms/step - loss: 0.0077 - val_loss: 0.0073\n",
            "Epoch 79/200\n",
            "657/657 [==============================] - 11s 16ms/step - loss: 0.0076 - val_loss: 0.0073\n",
            "Epoch 80/200\n",
            "657/657 [==============================] - 11s 16ms/step - loss: 0.0076 - val_loss: 0.0073\n",
            "Epoch 81/200\n",
            "657/657 [==============================] - 10s 16ms/step - loss: 0.0076 - val_loss: 0.0072\n",
            "Epoch 82/200\n",
            "657/657 [==============================] - 11s 16ms/step - loss: 0.0075 - val_loss: 0.0072\n",
            "Epoch 83/200\n",
            "657/657 [==============================] - 10s 16ms/step - loss: 0.0075 - val_loss: 0.0072\n",
            "Epoch 84/200\n",
            "657/657 [==============================] - 10s 16ms/step - loss: 0.0075 - val_loss: 0.0072\n",
            "Epoch 85/200\n",
            "657/657 [==============================] - 10s 16ms/step - loss: 0.0075 - val_loss: 0.0071\n",
            "Epoch 86/200\n",
            "657/657 [==============================] - 10s 16ms/step - loss: 0.0074 - val_loss: 0.0071\n",
            "Epoch 87/200\n",
            "657/657 [==============================] - 10s 16ms/step - loss: 0.0074 - val_loss: 0.0071\n",
            "Epoch 88/200\n",
            "657/657 [==============================] - 10s 16ms/step - loss: 0.0074 - val_loss: 0.0070\n",
            "Epoch 89/200\n",
            "657/657 [==============================] - 10s 16ms/step - loss: 0.0074 - val_loss: 0.0070\n",
            "Epoch 90/200\n",
            "657/657 [==============================] - 10s 16ms/step - loss: 0.0073 - val_loss: 0.0070\n",
            "Epoch 91/200\n",
            "657/657 [==============================] - 10s 16ms/step - loss: 0.0073 - val_loss: 0.0070\n",
            "Epoch 92/200\n",
            "657/657 [==============================] - 10s 16ms/step - loss: 0.0073 - val_loss: 0.0069\n",
            "Epoch 93/200\n",
            "657/657 [==============================] - 10s 16ms/step - loss: 0.0072 - val_loss: 0.0069\n",
            "Epoch 94/200\n",
            "657/657 [==============================] - 10s 16ms/step - loss: 0.0072 - val_loss: 0.0069\n",
            "Epoch 95/200\n",
            "657/657 [==============================] - 10s 16ms/step - loss: 0.0072 - val_loss: 0.0069\n",
            "Epoch 96/200\n",
            "657/657 [==============================] - 10s 16ms/step - loss: 0.0072 - val_loss: 0.0068\n",
            "Epoch 97/200\n",
            "657/657 [==============================] - 10s 16ms/step - loss: 0.0071 - val_loss: 0.0068\n",
            "Epoch 98/200\n",
            "657/657 [==============================] - 10s 16ms/step - loss: 0.0071 - val_loss: 0.0068\n",
            "Epoch 99/200\n",
            "657/657 [==============================] - 10s 16ms/step - loss: 0.0071 - val_loss: 0.0068\n",
            "Epoch 100/200\n",
            "657/657 [==============================] - 10s 16ms/step - loss: 0.0071 - val_loss: 0.0067\n",
            "Epoch 101/200\n",
            "657/657 [==============================] - 10s 16ms/step - loss: 0.0070 - val_loss: 0.0067\n",
            "Epoch 102/200\n",
            "657/657 [==============================] - 10s 16ms/step - loss: 0.0070 - val_loss: 0.0067\n",
            "Epoch 103/200\n",
            "657/657 [==============================] - 10s 16ms/step - loss: 0.0070 - val_loss: 0.0067\n",
            "Epoch 104/200\n",
            "657/657 [==============================] - 10s 16ms/step - loss: 0.0070 - val_loss: 0.0067\n",
            "Epoch 105/200\n",
            "657/657 [==============================] - 10s 16ms/step - loss: 0.0070 - val_loss: 0.0066\n",
            "Epoch 106/200\n",
            "657/657 [==============================] - 10s 16ms/step - loss: 0.0069 - val_loss: 0.0066\n",
            "Epoch 107/200\n",
            "657/657 [==============================] - 11s 16ms/step - loss: 0.0069 - val_loss: 0.0066\n",
            "Epoch 108/200\n",
            "657/657 [==============================] - 11s 16ms/step - loss: 0.0069 - val_loss: 0.0066\n",
            "Epoch 109/200\n",
            "657/657 [==============================] - 11s 16ms/step - loss: 0.0069 - val_loss: 0.0065\n",
            "Epoch 110/200\n",
            "657/657 [==============================] - 11s 16ms/step - loss: 0.0068 - val_loss: 0.0065\n",
            "Epoch 111/200\n",
            "657/657 [==============================] - 11s 16ms/step - loss: 0.0068 - val_loss: 0.0065\n",
            "Epoch 112/200\n",
            "229/657 [=========>....................] - ETA: 6s - loss: 0.0068"
          ],
          "name": "stdout"
        },
        {
          "output_type": "error",
          "ename": "KeyboardInterrupt",
          "evalue": "ignored",
          "traceback": [
            "\u001b[0;31m---------------------------------------------------------------------------\u001b[0m",
            "\u001b[0;31mKeyboardInterrupt\u001b[0m                         Traceback (most recent call last)",
            "\u001b[0;32m<ipython-input-60-495eda897f61>\u001b[0m in \u001b[0;36m<module>\u001b[0;34m()\u001b[0m\n\u001b[1;32m      7\u001b[0m     \u001b[0;31m# monitoring validation loss and metrics\u001b[0m\u001b[0;34m\u001b[0m\u001b[0;34m\u001b[0m\u001b[0;34m\u001b[0m\u001b[0m\n\u001b[1;32m      8\u001b[0m     \u001b[0;31m# at the end of each epoch\u001b[0m\u001b[0;34m\u001b[0m\u001b[0;34m\u001b[0m\u001b[0;34m\u001b[0m\u001b[0m\n\u001b[0;32m----> 9\u001b[0;31m     \u001b[0mvalidation_split\u001b[0m\u001b[0;34m=\u001b[0m\u001b[0;36m0.3\u001b[0m\u001b[0;34m\u001b[0m\u001b[0;34m\u001b[0m\u001b[0m\n\u001b[0m\u001b[1;32m     10\u001b[0m )\n",
            "\u001b[0;32m/usr/local/lib/python3.7/dist-packages/tensorflow/python/keras/engine/training.py\u001b[0m in \u001b[0;36mfit\u001b[0;34m(self, x, y, batch_size, epochs, verbose, callbacks, validation_split, validation_data, shuffle, class_weight, sample_weight, initial_epoch, steps_per_epoch, validation_steps, validation_batch_size, validation_freq, max_queue_size, workers, use_multiprocessing)\u001b[0m\n\u001b[1;32m   1181\u001b[0m                 _r=1):\n\u001b[1;32m   1182\u001b[0m               \u001b[0mcallbacks\u001b[0m\u001b[0;34m.\u001b[0m\u001b[0mon_train_batch_begin\u001b[0m\u001b[0;34m(\u001b[0m\u001b[0mstep\u001b[0m\u001b[0;34m)\u001b[0m\u001b[0;34m\u001b[0m\u001b[0;34m\u001b[0m\u001b[0m\n\u001b[0;32m-> 1183\u001b[0;31m               \u001b[0mtmp_logs\u001b[0m \u001b[0;34m=\u001b[0m \u001b[0mself\u001b[0m\u001b[0;34m.\u001b[0m\u001b[0mtrain_function\u001b[0m\u001b[0;34m(\u001b[0m\u001b[0miterator\u001b[0m\u001b[0;34m)\u001b[0m\u001b[0;34m\u001b[0m\u001b[0;34m\u001b[0m\u001b[0m\n\u001b[0m\u001b[1;32m   1184\u001b[0m               \u001b[0;32mif\u001b[0m \u001b[0mdata_handler\u001b[0m\u001b[0;34m.\u001b[0m\u001b[0mshould_sync\u001b[0m\u001b[0;34m:\u001b[0m\u001b[0;34m\u001b[0m\u001b[0;34m\u001b[0m\u001b[0m\n\u001b[1;32m   1185\u001b[0m                 \u001b[0mcontext\u001b[0m\u001b[0;34m.\u001b[0m\u001b[0masync_wait\u001b[0m\u001b[0;34m(\u001b[0m\u001b[0;34m)\u001b[0m\u001b[0;34m\u001b[0m\u001b[0;34m\u001b[0m\u001b[0m\n",
            "\u001b[0;32m/usr/local/lib/python3.7/dist-packages/tensorflow/python/eager/def_function.py\u001b[0m in \u001b[0;36m__call__\u001b[0;34m(self, *args, **kwds)\u001b[0m\n\u001b[1;32m    887\u001b[0m \u001b[0;34m\u001b[0m\u001b[0m\n\u001b[1;32m    888\u001b[0m       \u001b[0;32mwith\u001b[0m \u001b[0mOptionalXlaContext\u001b[0m\u001b[0;34m(\u001b[0m\u001b[0mself\u001b[0m\u001b[0;34m.\u001b[0m\u001b[0m_jit_compile\u001b[0m\u001b[0;34m)\u001b[0m\u001b[0;34m:\u001b[0m\u001b[0;34m\u001b[0m\u001b[0;34m\u001b[0m\u001b[0m\n\u001b[0;32m--> 889\u001b[0;31m         \u001b[0mresult\u001b[0m \u001b[0;34m=\u001b[0m \u001b[0mself\u001b[0m\u001b[0;34m.\u001b[0m\u001b[0m_call\u001b[0m\u001b[0;34m(\u001b[0m\u001b[0;34m*\u001b[0m\u001b[0margs\u001b[0m\u001b[0;34m,\u001b[0m \u001b[0;34m**\u001b[0m\u001b[0mkwds\u001b[0m\u001b[0;34m)\u001b[0m\u001b[0;34m\u001b[0m\u001b[0;34m\u001b[0m\u001b[0m\n\u001b[0m\u001b[1;32m    890\u001b[0m \u001b[0;34m\u001b[0m\u001b[0m\n\u001b[1;32m    891\u001b[0m       \u001b[0mnew_tracing_count\u001b[0m \u001b[0;34m=\u001b[0m \u001b[0mself\u001b[0m\u001b[0;34m.\u001b[0m\u001b[0mexperimental_get_tracing_count\u001b[0m\u001b[0;34m(\u001b[0m\u001b[0;34m)\u001b[0m\u001b[0;34m\u001b[0m\u001b[0;34m\u001b[0m\u001b[0m\n",
            "\u001b[0;32m/usr/local/lib/python3.7/dist-packages/tensorflow/python/eager/def_function.py\u001b[0m in \u001b[0;36m_call\u001b[0;34m(self, *args, **kwds)\u001b[0m\n\u001b[1;32m    915\u001b[0m       \u001b[0;31m# In this case we have created variables on the first call, so we run the\u001b[0m\u001b[0;34m\u001b[0m\u001b[0;34m\u001b[0m\u001b[0;34m\u001b[0m\u001b[0m\n\u001b[1;32m    916\u001b[0m       \u001b[0;31m# defunned version which is guaranteed to never create variables.\u001b[0m\u001b[0;34m\u001b[0m\u001b[0;34m\u001b[0m\u001b[0;34m\u001b[0m\u001b[0m\n\u001b[0;32m--> 917\u001b[0;31m       \u001b[0;32mreturn\u001b[0m \u001b[0mself\u001b[0m\u001b[0;34m.\u001b[0m\u001b[0m_stateless_fn\u001b[0m\u001b[0;34m(\u001b[0m\u001b[0;34m*\u001b[0m\u001b[0margs\u001b[0m\u001b[0;34m,\u001b[0m \u001b[0;34m**\u001b[0m\u001b[0mkwds\u001b[0m\u001b[0;34m)\u001b[0m  \u001b[0;31m# pylint: disable=not-callable\u001b[0m\u001b[0;34m\u001b[0m\u001b[0;34m\u001b[0m\u001b[0m\n\u001b[0m\u001b[1;32m    918\u001b[0m     \u001b[0;32melif\u001b[0m \u001b[0mself\u001b[0m\u001b[0;34m.\u001b[0m\u001b[0m_stateful_fn\u001b[0m \u001b[0;32mis\u001b[0m \u001b[0;32mnot\u001b[0m \u001b[0;32mNone\u001b[0m\u001b[0;34m:\u001b[0m\u001b[0;34m\u001b[0m\u001b[0;34m\u001b[0m\u001b[0m\n\u001b[1;32m    919\u001b[0m       \u001b[0;31m# Release the lock early so that multiple threads can perform the call\u001b[0m\u001b[0;34m\u001b[0m\u001b[0;34m\u001b[0m\u001b[0;34m\u001b[0m\u001b[0m\n",
            "\u001b[0;32m/usr/local/lib/python3.7/dist-packages/tensorflow/python/eager/function.py\u001b[0m in \u001b[0;36m__call__\u001b[0;34m(self, *args, **kwargs)\u001b[0m\n\u001b[1;32m   3022\u001b[0m        filtered_flat_args) = self._maybe_define_function(args, kwargs)\n\u001b[1;32m   3023\u001b[0m     return graph_function._call_flat(\n\u001b[0;32m-> 3024\u001b[0;31m         filtered_flat_args, captured_inputs=graph_function.captured_inputs)  # pylint: disable=protected-access\n\u001b[0m\u001b[1;32m   3025\u001b[0m \u001b[0;34m\u001b[0m\u001b[0m\n\u001b[1;32m   3026\u001b[0m   \u001b[0;34m@\u001b[0m\u001b[0mproperty\u001b[0m\u001b[0;34m\u001b[0m\u001b[0;34m\u001b[0m\u001b[0m\n",
            "\u001b[0;32m/usr/local/lib/python3.7/dist-packages/tensorflow/python/eager/function.py\u001b[0m in \u001b[0;36m_call_flat\u001b[0;34m(self, args, captured_inputs, cancellation_manager)\u001b[0m\n\u001b[1;32m   1959\u001b[0m       \u001b[0;31m# No tape is watching; skip to running the function.\u001b[0m\u001b[0;34m\u001b[0m\u001b[0;34m\u001b[0m\u001b[0;34m\u001b[0m\u001b[0m\n\u001b[1;32m   1960\u001b[0m       return self._build_call_outputs(self._inference_function.call(\n\u001b[0;32m-> 1961\u001b[0;31m           ctx, args, cancellation_manager=cancellation_manager))\n\u001b[0m\u001b[1;32m   1962\u001b[0m     forward_backward = self._select_forward_and_backward_functions(\n\u001b[1;32m   1963\u001b[0m         \u001b[0margs\u001b[0m\u001b[0;34m,\u001b[0m\u001b[0;34m\u001b[0m\u001b[0;34m\u001b[0m\u001b[0m\n",
            "\u001b[0;32m/usr/local/lib/python3.7/dist-packages/tensorflow/python/eager/function.py\u001b[0m in \u001b[0;36mcall\u001b[0;34m(self, ctx, args, cancellation_manager)\u001b[0m\n\u001b[1;32m    594\u001b[0m               \u001b[0minputs\u001b[0m\u001b[0;34m=\u001b[0m\u001b[0margs\u001b[0m\u001b[0;34m,\u001b[0m\u001b[0;34m\u001b[0m\u001b[0;34m\u001b[0m\u001b[0m\n\u001b[1;32m    595\u001b[0m               \u001b[0mattrs\u001b[0m\u001b[0;34m=\u001b[0m\u001b[0mattrs\u001b[0m\u001b[0;34m,\u001b[0m\u001b[0;34m\u001b[0m\u001b[0;34m\u001b[0m\u001b[0m\n\u001b[0;32m--> 596\u001b[0;31m               ctx=ctx)\n\u001b[0m\u001b[1;32m    597\u001b[0m         \u001b[0;32melse\u001b[0m\u001b[0;34m:\u001b[0m\u001b[0;34m\u001b[0m\u001b[0;34m\u001b[0m\u001b[0m\n\u001b[1;32m    598\u001b[0m           outputs = execute.execute_with_cancellation(\n",
            "\u001b[0;32m/usr/local/lib/python3.7/dist-packages/tensorflow/python/eager/execute.py\u001b[0m in \u001b[0;36mquick_execute\u001b[0;34m(op_name, num_outputs, inputs, attrs, ctx, name)\u001b[0m\n\u001b[1;32m     58\u001b[0m     \u001b[0mctx\u001b[0m\u001b[0;34m.\u001b[0m\u001b[0mensure_initialized\u001b[0m\u001b[0;34m(\u001b[0m\u001b[0;34m)\u001b[0m\u001b[0;34m\u001b[0m\u001b[0;34m\u001b[0m\u001b[0m\n\u001b[1;32m     59\u001b[0m     tensors = pywrap_tfe.TFE_Py_Execute(ctx._handle, device_name, op_name,\n\u001b[0;32m---> 60\u001b[0;31m                                         inputs, attrs, num_outputs)\n\u001b[0m\u001b[1;32m     61\u001b[0m   \u001b[0;32mexcept\u001b[0m \u001b[0mcore\u001b[0m\u001b[0;34m.\u001b[0m\u001b[0m_NotOkStatusException\u001b[0m \u001b[0;32mas\u001b[0m \u001b[0me\u001b[0m\u001b[0;34m:\u001b[0m\u001b[0;34m\u001b[0m\u001b[0;34m\u001b[0m\u001b[0m\n\u001b[1;32m     62\u001b[0m     \u001b[0;32mif\u001b[0m \u001b[0mname\u001b[0m \u001b[0;32mis\u001b[0m \u001b[0;32mnot\u001b[0m \u001b[0;32mNone\u001b[0m\u001b[0;34m:\u001b[0m\u001b[0;34m\u001b[0m\u001b[0;34m\u001b[0m\u001b[0m\n",
            "\u001b[0;31mKeyboardInterrupt\u001b[0m: "
          ]
        }
      ]
    },
    {
      "cell_type": "code",
      "metadata": {
        "id": "CGY-eFTDDWDh"
      },
      "source": [
        "def enc_feature_layer_idx(AE_model,num_of_encoder_block):\n",
        "\n",
        "\n",
        "  for l,layer in enumerate(AE_model.layers):\n",
        "\n",
        "    if layer.name == 'en_relu_'+str(num_of_encoder_block-1):\n",
        "\n",
        "      en_idx = l\n",
        "  \n",
        "  return en_idx\n",
        "\n"
      ],
      "execution_count": null,
      "outputs": []
    },
    {
      "cell_type": "code",
      "metadata": {
        "id": "kls56TljDY04"
      },
      "source": [
        "def set_encoder_weights(AE_model,encoder_model,num_of_encoder_block):\n",
        "\n",
        "  en_idx = enc_feature_layer_idx(AE_model,num_of_encoder_block)\n",
        "\n",
        "  i=0\n",
        "\n",
        "  for l1,l2 in (zip(AE_model.layers,encoder_model.layers)):\n",
        "\n",
        "    if i < en_idx+1:\n",
        "\n",
        "      w = l1.get_weights()\n",
        "\n",
        "      l2.set_weights(w)\n",
        "\n",
        "      i=i+1\n",
        "\n",
        "  print(\"encoder weights are set !\")\n"
      ],
      "execution_count": null,
      "outputs": []
    },
    {
      "cell_type": "code",
      "metadata": {
        "colab": {
          "base_uri": "https://localhost:8080/"
        },
        "id": "gpDJgnKeDbmT",
        "outputId": "0d861ec9-787f-4e3a-ba9b-c2b0db6537ad"
      },
      "source": [
        "set_encoder_weights(AE_model,encoder_model,3)"
      ],
      "execution_count": null,
      "outputs": [
        {
          "output_type": "stream",
          "text": [
            "encoder weights are set !\n"
          ],
          "name": "stdout"
        }
      ]
    },
    {
      "cell_type": "code",
      "metadata": {
        "id": "KWelu6WZMoz-"
      },
      "source": [
        ""
      ],
      "execution_count": null,
      "outputs": []
    },
    {
      "cell_type": "code",
      "metadata": {
        "colab": {
          "base_uri": "https://localhost:8080/"
        },
        "id": "IF5UWT09EOOq",
        "outputId": "2f23682e-8e12-4916-e191-903d60488569"
      },
      "source": [
        "x_test[0].shape\n",
        "x = x_test[0].reshape(1,28,28,1)\n",
        "x.shape\n",
        "encoder_model(x).shape"
      ],
      "execution_count": null,
      "outputs": [
        {
          "output_type": "execute_result",
          "data": {
            "text/plain": [
              "TensorShape([1, 7, 7, 192])"
            ]
          },
          "metadata": {
            "tags": []
          },
          "execution_count": 71
        }
      ]
    },
    {
      "cell_type": "code",
      "metadata": {
        "colab": {
          "base_uri": "https://localhost:8080/",
          "height": 513
        },
        "id": "7i5wXLJdECFI",
        "outputId": "6889ee58-c195-4d76-ac17-7c041238f156"
      },
      "source": [
        "y = AE_model.predict(x/255.).reshape(28,28)\n",
        "import matplotlib.pyplot as plt\n",
        "\n",
        "plt.figure()\n",
        "plt.imshow(y)\n",
        "plt.show()\n",
        "plt.figure()\n",
        "plt.imshow(x.reshape(28,28))\n",
        "plt.show()"
      ],
      "execution_count": null,
      "outputs": [
        {
          "output_type": "display_data",
          "data": {
            "image/png": "[encoded data removed]",
            "text/plain": [
              "<Figure size 432x288 with 1 Axes>"
            ]
          },
          "metadata": {
            "tags": [],
            "needs_background": "light"
          }
        },
        {
          "output_type": "display_data",
          "data": {
            "image/png": "[encoded data removed]",
            "text/plain": [
              "<Figure size 432x288 with 1 Axes>"
            ]
          },
          "metadata": {
            "tags": [],
            "needs_background": "light"
          }
        }
      ]
    }
  ]
}